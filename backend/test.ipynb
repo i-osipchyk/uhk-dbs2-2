{
 "cells": [
  {
   "cell_type": "code",
   "execution_count": 8,
   "metadata": {
    "collapsed": true,
    "ExecuteTime": {
     "end_time": "2023-08-17T17:50:26.153987Z",
     "start_time": "2023-08-17T17:50:26.150088Z"
    }
   },
   "outputs": [],
   "source": [
    "import requests\n",
    "import random\n",
    "from pprint import pprint"
   ]
  },
  {
   "cell_type": "code",
   "execution_count": 2,
   "outputs": [],
   "source": [
    "base_url = 'http://127.0.0.1:5000'"
   ],
   "metadata": {
    "collapsed": false,
    "ExecuteTime": {
     "end_time": "2023-08-17T17:48:26.648686Z",
     "start_time": "2023-08-17T17:48:26.623573Z"
    }
   }
  },
  {
   "cell_type": "code",
   "execution_count": 3,
   "outputs": [],
   "source": [
    "def register_customer(first_name, last_name, email, phone_number, password, country, city, street, house_number, postal_code, url_path='/customer_registration'):\n",
    "    full_url = base_url + url_path\n",
    "    data = {\n",
    "        'first_name': first_name,\n",
    "        'last_name': last_name,\n",
    "        'email': email,\n",
    "        'phone_number': phone_number,\n",
    "        'password': password,\n",
    "        'country': country,\n",
    "        'city': city,\n",
    "        'street': street,\n",
    "        'house_number': house_number,\n",
    "        'postal_code': postal_code\n",
    "    }\n",
    "\n",
    "    response = requests.post(full_url, json=data)\n",
    "\n",
    "    return response.status_code, response.text"
   ],
   "metadata": {
    "collapsed": false,
    "ExecuteTime": {
     "end_time": "2023-08-17T17:48:30.329507Z",
     "start_time": "2023-08-17T17:48:30.324891Z"
    }
   }
  },
  {
   "cell_type": "code",
   "execution_count": 16,
   "outputs": [
    {
     "name": "stdout",
     "output_type": "stream",
     "text": [
      "(200, \"{'message': 'Customer registered'}\")\n"
     ]
    }
   ],
   "source": [
    "pprint(register_customer('Ivan', 'Osipchyk', 'ivan.osipchyk@mail.com', '+420776119542', 'ivan', 'Czechia', 'Prague', 'Primeticka', '1158/8', '140 00'))"
   ],
   "metadata": {
    "collapsed": false,
    "ExecuteTime": {
     "end_time": "2023-08-17T17:56:07.313527Z",
     "start_time": "2023-08-17T17:56:07.203374Z"
    }
   }
  },
  {
   "cell_type": "code",
   "execution_count": 5,
   "outputs": [],
   "source": [
    "def login_customer(email, password, url_path='/customer_login'):\n",
    "    full_url = base_url + url_path\n",
    "    data = {\n",
    "        'email': email,\n",
    "        'password': password\n",
    "    }\n",
    "\n",
    "    response = requests.post(full_url, json=data)\n",
    "\n",
    "    return response.status_code, response.text"
   ],
   "metadata": {
    "collapsed": false,
    "ExecuteTime": {
     "end_time": "2023-08-17T17:49:42.867906Z",
     "start_time": "2023-08-17T17:49:42.860778Z"
    }
   }
  },
  {
   "cell_type": "code",
   "execution_count": 42,
   "outputs": [
    {
     "name": "stdout",
     "output_type": "stream",
     "text": [
      "(200, 'false\\n')\n"
     ]
    }
   ],
   "source": [
    "print(login_customer('serhii.konar@email.com', 'lol'))"
   ],
   "metadata": {
    "collapsed": false,
    "ExecuteTime": {
     "end_time": "2023-08-11T16:12:53.350940Z",
     "start_time": "2023-08-11T16:12:53.239937Z"
    }
   }
  },
  {
   "cell_type": "code",
   "execution_count": 31,
   "outputs": [],
   "source": [
    "def update_address(customer_id, country, city, street, house_number, postal_code, url_path='/update_address'):\n",
    "    full_url = base_url + url_path\n",
    "    data = {\n",
    "        'customer_id': customer_id,\n",
    "        'country': country,\n",
    "        'city': city,\n",
    "        'street': street,\n",
    "        'house_number': house_number,\n",
    "        'postal_code': postal_code\n",
    "    }\n",
    "\n",
    "    response = requests.post(full_url, json=data)\n",
    "\n",
    "    return response.status_code, response.text"
   ],
   "metadata": {
    "collapsed": false,
    "ExecuteTime": {
     "end_time": "2023-08-11T16:04:16.115722Z",
     "start_time": "2023-08-11T16:04:16.099673Z"
    }
   }
  },
  {
   "cell_type": "code",
   "execution_count": 20,
   "outputs": [
    {
     "name": "stdout",
     "output_type": "stream",
     "text": [
      "(200, '[\\n    [\\n        \"Address was changed\"\\n    ]\\n]\\n')\n"
     ]
    }
   ],
   "source": [
    "print(update_address(2, 'Czechia', 'Prague', 'Tilschove', '1082/2', '140 00'))"
   ],
   "metadata": {
    "collapsed": false,
    "ExecuteTime": {
     "end_time": "2023-08-02T18:11:43.951028Z",
     "start_time": "2023-08-02T18:11:43.944065Z"
    }
   }
  },
  {
   "cell_type": "code",
   "execution_count": 21,
   "outputs": [],
   "source": [
    "def register_admin(first_name, last_name, email, phone_number, password, reference_code, ulr_path='/admin_registration'):\n",
    "    full_url = base_url + ulr_path\n",
    "    data = {\n",
    "        'first_name': first_name,\n",
    "        'last_name': last_name,\n",
    "        'email': email,\n",
    "        'phone_number': phone_number,\n",
    "        'password': password,\n",
    "        'reference_code': reference_code\n",
    "    }\n",
    "\n",
    "    response = requests.post(full_url, json=data)\n",
    "\n",
    "    return response.status_code, response.text"
   ],
   "metadata": {
    "collapsed": false,
    "ExecuteTime": {
     "end_time": "2023-08-02T18:17:43.148220Z",
     "start_time": "2023-08-02T18:17:43.141526Z"
    }
   }
  },
  {
   "cell_type": "code",
   "execution_count": 22,
   "outputs": [
    {
     "name": "stdout",
     "output_type": "stream",
     "text": [
      "(200, '[\\n    [\\n        \"Email is already in use\"\\n    ]\\n]\\n')\n"
     ]
    }
   ],
   "source": [
    "print(register_admin('Petra', 'Poulova', 'petra.poulova@email.com', '+420882456734', 'petra.password', 'ref111'))"
   ],
   "metadata": {
    "collapsed": false,
    "ExecuteTime": {
     "end_time": "2023-08-02T18:17:44.392912Z",
     "start_time": "2023-08-02T18:17:44.385273Z"
    }
   }
  },
  {
   "cell_type": "code",
   "execution_count": 25,
   "outputs": [],
   "source": [
    "def login_admin(email, ulr_path='/admin_login'):\n",
    "    full_url = base_url + ulr_path\n",
    "    data = {\n",
    "        'email': email\n",
    "    }\n",
    "\n",
    "    response = requests.post(full_url, json=data)\n",
    "\n",
    "    return response.status_code, response.text"
   ],
   "metadata": {
    "collapsed": false,
    "ExecuteTime": {
     "end_time": "2023-08-03T07:41:07.249278Z",
     "start_time": "2023-08-03T07:41:07.242625Z"
    }
   }
  },
  {
   "cell_type": "code",
   "execution_count": 26,
   "outputs": [
    {
     "name": "stdout",
     "output_type": "stream",
     "text": [
      "(200, '[\\n    [\\n        \"petra.password\"\\n    ]\\n]\\n')\n"
     ]
    }
   ],
   "source": [
    "print(login_admin('petra.poulova@email.com'))"
   ],
   "metadata": {
    "collapsed": false,
    "ExecuteTime": {
     "end_time": "2023-08-03T07:41:08.031617Z",
     "start_time": "2023-08-03T07:41:08.024977Z"
    }
   }
  },
  {
   "cell_type": "code",
   "execution_count": 27,
   "outputs": [],
   "source": [
    "def add_storage(city, country, ulr_path='/add_storage'):\n",
    "    full_url = base_url + ulr_path\n",
    "    data = {\n",
    "        'city': city,\n",
    "        'country': country\n",
    "    }\n",
    "\n",
    "    response = requests.post(full_url, json=data)\n",
    "\n",
    "    return response.status_code, response.text"
   ],
   "metadata": {
    "collapsed": false,
    "ExecuteTime": {
     "end_time": "2023-08-03T07:42:30.795007Z",
     "start_time": "2023-08-03T07:42:30.788323Z"
    }
   }
  },
  {
   "cell_type": "code",
   "execution_count": 28,
   "outputs": [
    {
     "name": "stdout",
     "output_type": "stream",
     "text": [
      "(200, '[\\n    [\\n        \"Storage added successfully\"\\n    ]\\n]\\n')\n"
     ]
    }
   ],
   "source": [
    "print(add_storage('Brno', 'Czechia'))"
   ],
   "metadata": {
    "collapsed": false,
    "ExecuteTime": {
     "end_time": "2023-08-03T07:42:53.086828Z",
     "start_time": "2023-08-03T07:42:53.074926Z"
    }
   }
  },
  {
   "cell_type": "code",
   "execution_count": 29,
   "outputs": [
    {
     "name": "stdout",
     "output_type": "stream",
     "text": [
      "(200, '[\\n    [\\n        \"Storage added successfully\"\\n    ]\\n]\\n')\n"
     ]
    }
   ],
   "source": [
    "print(add_storage('Dresden', 'Germany'))"
   ],
   "metadata": {
    "collapsed": false,
    "ExecuteTime": {
     "end_time": "2023-08-03T07:43:22.607819Z",
     "start_time": "2023-08-03T07:43:22.566415Z"
    }
   }
  },
  {
   "cell_type": "code",
   "execution_count": 32,
   "outputs": [],
   "source": [
    "def add_product(name, price, brand, color_1, color_2, color_3, category, release_year, gender, description, ulr_path='/add_product'):\n",
    "    full_url = base_url + ulr_path\n",
    "    data = {\n",
    "        'name': name,\n",
    "        'price': price,\n",
    "        'brand': brand,\n",
    "        'color_1': color_1,\n",
    "        'color_2': color_2,\n",
    "        'color_3': color_3,\n",
    "        'category': category,\n",
    "        'release_year': release_year,\n",
    "        'gender': gender,\n",
    "        'description': description\n",
    "    }\n",
    "\n",
    "    response = requests.post(full_url, json=data)\n",
    "\n",
    "    return response.status_code, response.text"
   ],
   "metadata": {
    "collapsed": false,
    "ExecuteTime": {
     "end_time": "2023-08-03T07:47:41.287935Z",
     "start_time": "2023-08-03T07:47:41.281434Z"
    }
   }
  },
  {
   "cell_type": "code",
   "execution_count": 33,
   "outputs": [
    {
     "name": "stdout",
     "output_type": "stream",
     "text": [
      "(200, '[\\n    [\\n        \"Product added successfully\"\\n    ]\\n]\\n')\n"
     ]
    }
   ],
   "source": [
    "print(add_product('Air Jordan 1', 129.99, 'Nike/Jordan', 'red', 'white', 'black', 'lifestyle', 2022, 'male', 'Return of iconic model'))"
   ],
   "metadata": {
    "collapsed": false,
    "ExecuteTime": {
     "end_time": "2023-08-03T07:47:42.646192Z",
     "start_time": "2023-08-03T07:47:42.635415Z"
    }
   }
  },
  {
   "cell_type": "code",
   "execution_count": 34,
   "outputs": [
    {
     "name": "stdout",
     "output_type": "stream",
     "text": [
      "(200, '[\\n    [\\n        \"Product added successfully\"\\n    ]\\n]\\n')\n"
     ]
    }
   ],
   "source": [
    "print(add_product('Air Force 1', 119.99, 'Nike', 'white', 'white', 'white', 'lifestyle', 2020, 'female', 'Classic model that suits anyone'))"
   ],
   "metadata": {
    "collapsed": false,
    "ExecuteTime": {
     "end_time": "2023-08-03T07:48:25.589456Z",
     "start_time": "2023-08-03T07:48:25.572733Z"
    }
   }
  },
  {
   "cell_type": "code",
   "execution_count": 35,
   "outputs": [
    {
     "name": "stdout",
     "output_type": "stream",
     "text": [
      "(200, '[\\n    [\\n        \"Product added successfully\"\\n    ]\\n]\\n')\n"
     ]
    }
   ],
   "source": [
    "print(add_product('Air Jordan 1', 119.99, 'Nike/Jordan', 'black', 'white', 'blue', 'lifestyle', 2023, 'female', 'Inspired by the original that debuted in 1985, the Air Jordan 1 Low offers a clean, classic look that\\'s familiar yet always fresh. With an iconic design that pairs perfectly with any \\'fit, these kicks ensure you\\'ll always be on point.'))"
   ],
   "metadata": {
    "collapsed": false,
    "ExecuteTime": {
     "end_time": "2023-08-03T07:52:38.247697Z",
     "start_time": "2023-08-03T07:52:38.218251Z"
    }
   }
  },
  {
   "cell_type": "code",
   "execution_count": 36,
   "outputs": [
    {
     "name": "stdout",
     "output_type": "stream",
     "text": [
      "(200, '[\\n    [\\n        \"Product added successfully\"\\n    ]\\n]\\n')\n"
     ]
    }
   ],
   "source": [
    "print(add_product('Air Force 1', 119.99, 'Nike', 'white', 'red', 'white', 'lifestyle', 2021, 'male', 'Classic model with a little detail, that makes it look brand new.'))"
   ],
   "metadata": {
    "collapsed": false,
    "ExecuteTime": {
     "end_time": "2023-08-03T07:53:39.249862Z",
     "start_time": "2023-08-03T07:53:39.231893Z"
    }
   }
  },
  {
   "cell_type": "code",
   "execution_count": 37,
   "outputs": [
    {
     "name": "stdout",
     "output_type": "stream",
     "text": [
      "(200, '[\\n    [\\n        \"Product added successfully\"\\n    ]\\n]\\n')\n"
     ]
    }
   ],
   "source": [
    "print(add_product('Adidas NMD r1', 129.99, 'Adidas', 'white', 'black', 'white', 'lifestyle', 2022, 'male', 'Your favorite NMD\\'s now in new design'))"
   ],
   "metadata": {
    "collapsed": false,
    "ExecuteTime": {
     "end_time": "2023-08-03T07:56:05.594885Z",
     "start_time": "2023-08-03T07:56:05.577631Z"
    }
   }
  },
  {
   "cell_type": "code",
   "execution_count": 38,
   "outputs": [],
   "source": [
    "def add_product_to_storage(name, color_1, color_2, color_3, gender, size, city, quantity, ulr_path='/add_product_to_storage'):\n",
    "    full_url = base_url + ulr_path\n",
    "    data = {\n",
    "        'name': name,\n",
    "        'color_1': color_1,\n",
    "        'color_2': color_2,\n",
    "        'color_3': color_3,\n",
    "        'gender': gender,\n",
    "        'size': size,\n",
    "        'city': city,\n",
    "        'quantity': quantity\n",
    "    }\n",
    "\n",
    "    response = requests.post(full_url, json=data)\n",
    "\n",
    "    return response.status_code, response.text"
   ],
   "metadata": {
    "collapsed": false,
    "ExecuteTime": {
     "end_time": "2023-08-03T07:58:07.338849Z",
     "start_time": "2023-08-03T07:58:07.326204Z"
    }
   }
  },
  {
   "cell_type": "code",
   "execution_count": 42,
   "outputs": [
    {
     "name": "stdout",
     "output_type": "stream",
     "text": [
      "(200, '[\\n    [\\n        \"There is no such a product\"\\n    ]\\n]\\n')\n",
      "(200, '[\\n    [\\n        \"Air Jordan 1 added to storage in Brno\"\\n    ]\\n]\\n')\n",
      "(200, '[\\n    [\\n        \"There is no such a product\"\\n    ]\\n]\\n')\n",
      "(200, '[\\n    [\\n        \"Air Jordan 1 added to storage in Dresden\"\\n    ]\\n]\\n')\n",
      "(200, '[\\n    [\\n        \"There is no such a product\"\\n    ]\\n]\\n')\n",
      "(200, '[\\n    [\\n        \"Air Jordan 1 added to storage in Brno\"\\n    ]\\n]\\n')\n",
      "(200, '[\\n    [\\n        \"There is no such a product\"\\n    ]\\n]\\n')\n",
      "(200, '[\\n    [\\n        \"Air Jordan 1 added to storage in Dresden\"\\n    ]\\n]\\n')\n",
      "(200, '[\\n    [\\n        \"There is no such a product\"\\n    ]\\n]\\n')\n",
      "(200, '[\\n    [\\n        \"Air Jordan 1 added to storage in Brno\"\\n    ]\\n]\\n')\n",
      "(200, '[\\n    [\\n        \"There is no such a product\"\\n    ]\\n]\\n')\n",
      "(200, '[\\n    [\\n        \"Air Jordan 1 added to storage in Dresden\"\\n    ]\\n]\\n')\n",
      "(200, '[\\n    [\\n        \"There is no such a product\"\\n    ]\\n]\\n')\n",
      "(200, '[\\n    [\\n        \"Air Jordan 1 added to storage in Brno\"\\n    ]\\n]\\n')\n",
      "(200, '[\\n    [\\n        \"There is no such a product\"\\n    ]\\n]\\n')\n",
      "(200, '[\\n    [\\n        \"Air Jordan 1 added to storage in Dresden\"\\n    ]\\n]\\n')\n",
      "(200, '[\\n    [\\n        \"There is no such a product\"\\n    ]\\n]\\n')\n",
      "(200, '[\\n    [\\n        \"Air Jordan 1 added to storage in Brno\"\\n    ]\\n]\\n')\n",
      "(200, '[\\n    [\\n        \"There is no such a product\"\\n    ]\\n]\\n')\n",
      "(200, '[\\n    [\\n        \"Air Jordan 1 added to storage in Dresden\"\\n    ]\\n]\\n')\n",
      "(200, '[\\n    [\\n        \"There is no such a product\"\\n    ]\\n]\\n')\n",
      "(200, '[\\n    [\\n        \"Air Jordan 1 added to storage in Brno\"\\n    ]\\n]\\n')\n",
      "(200, '[\\n    [\\n        \"There is no such a product\"\\n    ]\\n]\\n')\n",
      "(200, '[\\n    [\\n        \"Air Jordan 1 added to storage in Dresden\"\\n    ]\\n]\\n')\n"
     ]
    }
   ],
   "source": [
    "for size in [8, 8.5, 9, 9.5, 10, 10.5]:\n",
    "    for city in ['Brno', 'Dresden']:\n",
    "        for gender in ['male', 'female']:\n",
    "            random_quantity = random.randint(5, 45)\n",
    "            print(add_product_to_storage('Air Jordan 1', 'black', 'white', 'blue', gender, size, city, random_quantity))"
   ],
   "metadata": {
    "collapsed": false,
    "ExecuteTime": {
     "end_time": "2023-08-03T08:13:09.609203Z",
     "start_time": "2023-08-03T08:13:09.547995Z"
    }
   }
  },
  {
   "cell_type": "code",
   "execution_count": 17,
   "outputs": [],
   "source": [
    "def add_product_to_order(customer_id, product_id, quantity, size, ulr_path='/add_product_to_order'):\n",
    "    full_url = base_url + ulr_path\n",
    "    data = {\n",
    "        'customer_id': customer_id,\n",
    "        'product_id': product_id,\n",
    "        'quantity': quantity,\n",
    "        'size': size\n",
    "    }\n",
    "\n",
    "    response = requests.post(full_url, json=data)\n",
    "\n",
    "    return response.status_code, response.text"
   ],
   "metadata": {
    "collapsed": false,
    "ExecuteTime": {
     "end_time": "2023-08-18T09:21:54.898605Z",
     "start_time": "2023-08-18T09:21:54.892668Z"
    }
   }
  },
  {
   "cell_type": "code",
   "execution_count": 45,
   "outputs": [
    {
     "name": "stdout",
     "output_type": "stream",
     "text": [
      "(200, '[\\n    [\\n        \"Item with id 1 is successfully added to the order number 1\"\\n    ]\\n]\\n')\n"
     ]
    }
   ],
   "source": [
    "print(add_product_to_order(1, 1, 1, 1, 10))\n",
    "print(add_product_to_order(1, 3, 1, 1, 8))\n",
    "print(add_product_to_order(2, 1, 3, 2, 9))\n",
    "print(add_product_to_order(2, 1, 3, 1, 9))"
   ],
   "metadata": {
    "collapsed": false,
    "ExecuteTime": {
     "end_time": "2023-08-03T08:18:41.348074Z",
     "start_time": "2023-08-03T08:18:41.334225Z"
    }
   }
  },
  {
   "cell_type": "code",
   "execution_count": 51,
   "outputs": [],
   "source": [
    "def update_quantity(customer_id, product_id, quantity, url_path='/update_quantity'):\n",
    "    full_url = base_url + url_path\n",
    "    data = {\n",
    "        'customer_id': customer_id,\n",
    "        'product_id': product_id,\n",
    "        'quantity': quantity\n",
    "    }\n",
    "\n",
    "    response = requests.post(full_url, json=data)\n",
    "\n",
    "    return response.status_code, response.text"
   ],
   "metadata": {
    "collapsed": false,
    "ExecuteTime": {
     "end_time": "2023-08-03T08:24:39.561491Z",
     "start_time": "2023-08-03T08:24:39.493095Z"
    }
   }
  },
  {
   "cell_type": "code",
   "execution_count": 54,
   "outputs": [
    {
     "name": "stdout",
     "output_type": "stream",
     "text": [
      "(200, '[\\n    [\\n        \"Quantity was updated successfully\"\\n    ]\\n]\\n')\n"
     ]
    }
   ],
   "source": [
    "print(update_quantity(1, 1, 3))"
   ],
   "metadata": {
    "collapsed": false,
    "ExecuteTime": {
     "end_time": "2023-08-03T08:26:28.198368Z",
     "start_time": "2023-08-03T08:26:28.182117Z"
    }
   }
  },
  {
   "cell_type": "code",
   "execution_count": 55,
   "outputs": [],
   "source": [
    "def remove_item_from_order(product_id, customer_id, url_path='/remove_item_from_order'):\n",
    "    full_url = base_url + url_path\n",
    "    data = {\n",
    "        'customer_id': customer_id,\n",
    "        'product_id': product_id\n",
    "    }\n",
    "\n",
    "    response = requests.post(full_url, json=data)\n",
    "\n",
    "    return response.status_code, response.text"
   ],
   "metadata": {
    "collapsed": false,
    "ExecuteTime": {
     "end_time": "2023-08-03T08:28:14.679797Z",
     "start_time": "2023-08-03T08:28:14.661146Z"
    }
   }
  },
  {
   "cell_type": "code",
   "execution_count": 57,
   "outputs": [
    {
     "name": "stdout",
     "output_type": "stream",
     "text": [
      "(200, '[\\n    [\\n        \"Item deleted successfully\"\\n    ]\\n]\\n')\n"
     ]
    }
   ],
   "source": [
    "print(remove_item_from_order(1, 1))"
   ],
   "metadata": {
    "collapsed": false,
    "ExecuteTime": {
     "end_time": "2023-08-03T08:28:33.212185Z",
     "start_time": "2023-08-03T08:28:33.198998Z"
    }
   }
  },
  {
   "cell_type": "code",
   "execution_count": 58,
   "outputs": [],
   "source": [
    "def purchase(customer_id, url_path='/purchase'):\n",
    "    full_url = base_url + url_path\n",
    "    data = {\n",
    "        'customer_id': customer_id\n",
    "    }\n",
    "\n",
    "    response = requests.post(full_url, json=data)\n",
    "\n",
    "    return response.status_code, response.text"
   ],
   "metadata": {
    "collapsed": false,
    "ExecuteTime": {
     "end_time": "2023-08-03T08:31:13.851333Z",
     "start_time": "2023-08-03T08:31:13.827547Z"
    }
   }
  },
  {
   "cell_type": "code",
   "execution_count": 59,
   "outputs": [
    {
     "name": "stdout",
     "output_type": "stream",
     "text": [
      "(200, '[\\n    [\\n        \"Purchase is finished\"\\n    ]\\n]\\n')\n"
     ]
    }
   ],
   "source": [
    "print(purchase(1))"
   ],
   "metadata": {
    "collapsed": false,
    "ExecuteTime": {
     "end_time": "2023-08-03T08:31:31.531498Z",
     "start_time": "2023-08-03T08:31:31.498237Z"
    }
   }
  },
  {
   "cell_type": "code",
   "execution_count": 16,
   "outputs": [],
   "source": [
    "def change_product(name, color_1, color_2, color_3, gender, new_name, new_color_1, new_color_2, new_color_3, new_gender, new_price, new_brand, new_category, new_release_year, new_description, url_path='/change_product'):\n",
    "    full_url = base_url + url_path\n",
    "    data = {\n",
    "        'name': name,\n",
    "        'color_1': color_1,\n",
    "        'color_2': color_2,\n",
    "        'color_3': color_3,\n",
    "        'gender': gender,\n",
    "        'new_name': new_name,\n",
    "        'new_color_1': new_color_1,\n",
    "        'new_color_2': new_color_2,\n",
    "        'new_color_3': new_color_3,\n",
    "        'new_gender': new_gender,\n",
    "        'new_price': new_price,\n",
    "        'new_brand': new_brand,\n",
    "        'new_category': new_category,\n",
    "        'new_release_year': new_release_year,\n",
    "        'new_description': new_description\n",
    "    }\n",
    "\n",
    "    response = requests.post(full_url, json=data)\n",
    "\n",
    "    return response.status_code, response.text"
   ],
   "metadata": {
    "collapsed": false,
    "ExecuteTime": {
     "end_time": "2023-08-03T10:15:32.559727Z",
     "start_time": "2023-08-03T10:15:32.552295Z"
    }
   }
  },
  {
   "cell_type": "code",
   "execution_count": 15,
   "outputs": [
    {
     "name": "stdout",
     "output_type": "stream",
     "text": [
      "/change_product\n",
      "(200, '[\\n    [\\n        \"Product was changed successfully\"\\n    ]\\n]\\n')\n"
     ]
    }
   ],
   "source": [
    "print(change_product('Air Force 1', 'white', 'red', 'white', 'male', 'Air Force 1 W/r', None, None, None, None, 119.99, None, None, None, None))"
   ],
   "metadata": {
    "collapsed": false,
    "ExecuteTime": {
     "end_time": "2023-08-03T10:14:18.291044Z",
     "start_time": "2023-08-03T10:14:18.274509Z"
    }
   }
  },
  {
   "cell_type": "code",
   "execution_count": 17,
   "outputs": [],
   "source": [
    "def delete_product(name, color_1, color_2, color_3, gender, url_path='/delete_product'):\n",
    "    full_url = base_url + url_path\n",
    "    data = {\n",
    "        'name': name,\n",
    "        'color_1': color_1,\n",
    "        'color_2': color_2,\n",
    "        'color_3': color_3,\n",
    "        'gender': gender\n",
    "    }\n",
    "\n",
    "    response = requests.post(full_url, json=data)\n",
    "\n",
    "    return response.status_code, response.text"
   ],
   "metadata": {
    "collapsed": false,
    "ExecuteTime": {
     "end_time": "2023-08-03T10:16:04.141764Z",
     "start_time": "2023-08-03T10:16:04.132746Z"
    }
   }
  },
  {
   "cell_type": "code",
   "execution_count": 18,
   "outputs": [
    {
     "name": "stdout",
     "output_type": "stream",
     "text": [
      "(200, '[\\n    [\\n        \"Product was deleted successfully\"\\n    ]\\n]\\n')\n"
     ]
    }
   ],
   "source": [
    "print(delete_product('Adidas NMD r1', 'white', 'black', 'white', 'male'))"
   ],
   "metadata": {
    "collapsed": false,
    "ExecuteTime": {
     "end_time": "2023-08-03T10:17:04.955846Z",
     "start_time": "2023-08-03T10:17:04.940020Z"
    }
   }
  },
  {
   "cell_type": "code",
   "execution_count": 20,
   "outputs": [],
   "source": [
    "def filter_products(name, min_price, max_price, brand, color_1, color_2, color_3, category, release_year, gender, url_path='/filter_products'):\n",
    "    full_url = base_url + url_path\n",
    "    data = {\n",
    "        'name': name,\n",
    "        'min_price': min_price,\n",
    "        'max_price': max_price,\n",
    "        'brand': brand,\n",
    "        'color_1': color_1,\n",
    "        'color_2': color_2,\n",
    "        'color_3': color_3,\n",
    "        'category': category,\n",
    "        'release_year': release_year,\n",
    "        'gender': gender\n",
    "    }\n",
    "\n",
    "    response = requests.post(full_url, json=data)\n",
    "\n",
    "    return response.status_code, response.text"
   ],
   "metadata": {
    "collapsed": false,
    "ExecuteTime": {
     "end_time": "2023-08-18T09:47:21.412860Z",
     "start_time": "2023-08-18T09:47:21.399980Z"
    }
   }
  },
  {
   "cell_type": "code",
   "execution_count": 21,
   "outputs": [
    {
     "name": "stdout",
     "output_type": "stream",
     "text": [
      "(200, '[\\n    [\\n        1,\\n        \"Air Jordan 1\",\\n        129.99,\\n        \"Nike/Jordan\",\\n        \"red\",\\n        \"white\",\\n        \"black\",\\n        \"lifestyle\",\\n        2022,\\n        \"male\",\\n        \"Return of iconic model\"\\n    ]\\n]\\n')\n"
     ]
    }
   ],
   "source": [
    "print(filter_products('Jordan', None, None, None, None, None, None, None, None, None))"
   ],
   "metadata": {
    "collapsed": false,
    "ExecuteTime": {
     "end_time": "2023-08-18T09:47:22.414735Z",
     "start_time": "2023-08-18T09:47:22.399634Z"
    }
   }
  },
  {
   "cell_type": "code",
   "execution_count": 23,
   "outputs": [],
   "source": [
    "def get_customer_data(customer_id, url_path='/get_customer_data'):\n",
    "    full_url = base_url + url_path\n",
    "    data = {\n",
    "        'customer_id': customer_id\n",
    "    }\n",
    "\n",
    "    response = requests.post(full_url, json=data)\n",
    "\n",
    "    return response.status_code, response.text"
   ],
   "metadata": {
    "collapsed": false,
    "ExecuteTime": {
     "end_time": "2023-08-18T09:49:34.534650Z",
     "start_time": "2023-08-18T09:49:34.529068Z"
    }
   }
  },
  {
   "cell_type": "code",
   "execution_count": 24,
   "outputs": [
    {
     "data": {
      "text/plain": "(200,\n '[\\n    [\\n        \"Ivan\",\\n        \"Osipchyk\",\\n        \"ivan.osipchyk@email.com\",\\n        \"+420776119548\",\\n        \"Czechia\",\\n        \"Prague\",\\n        \"Dekanska\",\\n        \"269/11\",\\n        \"140 00\"\\n    ]\\n]\\n')"
     },
     "execution_count": 24,
     "metadata": {},
     "output_type": "execute_result"
    }
   ],
   "source": [
    "get_customer_data(1)"
   ],
   "metadata": {
    "collapsed": false,
    "ExecuteTime": {
     "end_time": "2023-08-18T09:49:35.326845Z",
     "start_time": "2023-08-18T09:49:35.314062Z"
    }
   }
  },
  {
   "cell_type": "code",
   "execution_count": null,
   "outputs": [],
   "source": [],
   "metadata": {
    "collapsed": false
   }
  }
 ],
 "metadata": {
  "kernelspec": {
   "display_name": "Python 3",
   "language": "python",
   "name": "python3"
  },
  "language_info": {
   "codemirror_mode": {
    "name": "ipython",
    "version": 2
   },
   "file_extension": ".py",
   "mimetype": "text/x-python",
   "name": "python",
   "nbconvert_exporter": "python",
   "pygments_lexer": "ipython2",
   "version": "2.7.6"
  }
 },
 "nbformat": 4,
 "nbformat_minor": 0
}
